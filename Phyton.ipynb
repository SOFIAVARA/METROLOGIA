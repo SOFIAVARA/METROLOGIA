{
  "nbformat": 4,
  "nbformat_minor": 0,
  "metadata": {
    "colab": {
      "provenance": []
    },
    "kernelspec": {
      "name": "python3",
      "display_name": "Python 3"
    },
    "language_info": {
      "name": "python"
    }
  },
  "cells": [
    {
      "cell_type": "code",
      "execution_count": 2,
      "metadata": {
        "id": "F_NjNkKlqSQM"
      },
      "outputs": [],
      "source": [
        "# Importar la librería de Pandas\n",
        "import pandas as pd\n",
        "import statistics"
      ]
    },
    {
      "cell_type": "code",
      "source": [
        "#Creamos la estructura de un Diccionario\n",
        "Data = {'Measurement': [1, 2, 3 ,4 ,5, 6, 7, 8, 9, 10, 11, 12,\n",
        "                        13, 14, 15, 16, 17, 18, 19, 20, 21, 22, 23, 24,\n",
        "                        25, 26, 27, 28, 29, 30, 31, 32, 33, 34, 35, 36],\n",
        "        'Lenght':[1.118, 1.262, 1.118, 0.480, 1.014, 0.955, 0.978, 0.972, 1.190,\n",
        "                  1.055, 0.886, 1.071, 0.861, 1.055, 0.834, 1.106, 0.912, 0.773,\n",
        "                  0.958, 1.152, 1.324, 2.192, 0.779, 0.692, 1.036, 1.618, 1.187,\n",
        "                  0.884, 0.858, 1.269, 0.811, 0.811, 0.636, 0.710, 0.675, 0.830]\n",
        "        }\n",
        "print(Data)"
      ],
      "metadata": {
        "colab": {
          "base_uri": "https://localhost:8080/"
        },
        "id": "l1UbWtlZqljl",
        "outputId": "f5db8215-b4f9-4b04-aba5-d85f8f1c7604"
      },
      "execution_count": 5,
      "outputs": [
        {
          "output_type": "stream",
          "name": "stdout",
          "text": [
            "{'Measurement': [1, 2, 3, 4, 5, 6, 7, 8, 9, 10, 11, 12, 13, 14, 15, 16, 17, 18, 19, 20, 21, 22, 23, 24, 25, 26, 27, 28, 29, 30, 31, 32, 33, 34, 35, 36], 'Lenght': [1.118, 1.262, 1.118, 0.48, 1.014, 0.955, 0.978, 0.972, 1.19, 1.055, 0.886, 1.071, 0.861, 1.055, 0.834, 1.106, 0.912, 0.773, 0.958, 1.152, 1.324, 2.192, 0.779, 0.692, 1.036, 1.618, 1.187, 0.884, 0.858, 1.269, 0.811, 0.811, 0.636, 0.71, 0.675, 0.83]}\n"
          ]
        }
      ]
    },
    {
      "cell_type": "code",
      "source": [
        "#Ordena en forma de tabla\n",
        "df = pd.DataFrame(Data)\n",
        "\n",
        "#Muestra la tabla de datos\n",
        "print(\"\\nTabla de valores hechos con DataFrame:\")\n",
        "print(df)"
      ],
      "metadata": {
        "colab": {
          "base_uri": "https://localhost:8080/"
        },
        "id": "V17qRgWPui2H",
        "outputId": "622124c9-bfa6-445d-940a-4635c9307a41"
      },
      "execution_count": 6,
      "outputs": [
        {
          "output_type": "stream",
          "name": "stdout",
          "text": [
            "\n",
            "Tabla de valores hechos con DataFrame:\n",
            "    Measurement  Lenght\n",
            "0             1   1.118\n",
            "1             2   1.262\n",
            "2             3   1.118\n",
            "3             4   0.480\n",
            "4             5   1.014\n",
            "5             6   0.955\n",
            "6             7   0.978\n",
            "7             8   0.972\n",
            "8             9   1.190\n",
            "9            10   1.055\n",
            "10           11   0.886\n",
            "11           12   1.071\n",
            "12           13   0.861\n",
            "13           14   1.055\n",
            "14           15   0.834\n",
            "15           16   1.106\n",
            "16           17   0.912\n",
            "17           18   0.773\n",
            "18           19   0.958\n",
            "19           20   1.152\n",
            "20           21   1.324\n",
            "21           22   2.192\n",
            "22           23   0.779\n",
            "23           24   0.692\n",
            "24           25   1.036\n",
            "25           26   1.618\n",
            "26           27   1.187\n",
            "27           28   0.884\n",
            "28           29   0.858\n",
            "29           30   1.269\n",
            "30           31   0.811\n",
            "31           32   0.811\n",
            "32           33   0.636\n",
            "33           34   0.710\n",
            "34           35   0.675\n",
            "35           36   0.830\n"
          ]
        }
      ]
    },
    {
      "cell_type": "code",
      "source": [
        "#Realiza estadísticas de la tabla\n",
        "df.head(3)\n",
        "print(\"\\nEstadísticas de la tabla:\")\n",
        "print(df.describe())"
      ],
      "metadata": {
        "colab": {
          "base_uri": "https://localhost:8080/"
        },
        "id": "3ToogU0Hu_Sn",
        "outputId": "9362bef3-36a1-42dc-d460-eb0810aec868"
      },
      "execution_count": 7,
      "outputs": [
        {
          "output_type": "stream",
          "name": "stdout",
          "text": [
            "\n",
            "Estadísticas de la tabla:\n",
            "       Measurement     Lenght\n",
            "count    36.000000  36.000000\n",
            "mean     18.500000   1.001722\n",
            "std      10.535654   0.301851\n",
            "min       1.000000   0.480000\n",
            "25%       9.750000   0.825250\n",
            "50%      18.500000   0.965000\n",
            "75%      27.250000   1.118000\n",
            "max      36.000000   2.192000\n"
          ]
        }
      ]
    },
    {
      "cell_type": "code",
      "source": [
        "#Creamos variable por columna\n",
        "measurement = df['Measurement']\n",
        "lenght = df['Lenght']"
      ],
      "metadata": {
        "id": "DqnS_3hnvTHD"
      },
      "execution_count": 8,
      "outputs": []
    },
    {
      "cell_type": "code",
      "source": [
        "#Imprimimos columnas\n",
        "print(\"\\nColumna para 'Measurement':\")\n",
        "print(measurement)\n",
        "print(\"\\nColumna para 'Lenght':\")\n",
        "print(lenght)"
      ],
      "metadata": {
        "colab": {
          "base_uri": "https://localhost:8080/"
        },
        "id": "QbHLKB_lvaJU",
        "outputId": "295d3f29-4942-4e45-f614-43c37c1644e4"
      },
      "execution_count": 9,
      "outputs": [
        {
          "output_type": "stream",
          "name": "stdout",
          "text": [
            "\n",
            "Columna para 'Measurement':\n",
            "0      1\n",
            "1      2\n",
            "2      3\n",
            "3      4\n",
            "4      5\n",
            "5      6\n",
            "6      7\n",
            "7      8\n",
            "8      9\n",
            "9     10\n",
            "10    11\n",
            "11    12\n",
            "12    13\n",
            "13    14\n",
            "14    15\n",
            "15    16\n",
            "16    17\n",
            "17    18\n",
            "18    19\n",
            "19    20\n",
            "20    21\n",
            "21    22\n",
            "22    23\n",
            "23    24\n",
            "24    25\n",
            "25    26\n",
            "26    27\n",
            "27    28\n",
            "28    29\n",
            "29    30\n",
            "30    31\n",
            "31    32\n",
            "32    33\n",
            "33    34\n",
            "34    35\n",
            "35    36\n",
            "Name: Measurement, dtype: int64\n",
            "\n",
            "Columna para 'Lenght':\n",
            "0     1.118\n",
            "1     1.262\n",
            "2     1.118\n",
            "3     0.480\n",
            "4     1.014\n",
            "5     0.955\n",
            "6     0.978\n",
            "7     0.972\n",
            "8     1.190\n",
            "9     1.055\n",
            "10    0.886\n",
            "11    1.071\n",
            "12    0.861\n",
            "13    1.055\n",
            "14    0.834\n",
            "15    1.106\n",
            "16    0.912\n",
            "17    0.773\n",
            "18    0.958\n",
            "19    1.152\n",
            "20    1.324\n",
            "21    2.192\n",
            "22    0.779\n",
            "23    0.692\n",
            "24    1.036\n",
            "25    1.618\n",
            "26    1.187\n",
            "27    0.884\n",
            "28    0.858\n",
            "29    1.269\n",
            "30    0.811\n",
            "31    0.811\n",
            "32    0.636\n",
            "33    0.710\n",
            "34    0.675\n",
            "35    0.830\n",
            "Name: Lenght, dtype: float64\n"
          ]
        }
      ]
    },
    {
      "cell_type": "code",
      "source": [
        "#Convertir columnas en listas\n",
        "measulist = measurement.tolist()\n",
        "lenlist = lenght.tolist()\n",
        "\n",
        "#Calculamos estadísticas para Measurement\n",
        "print(\"\\nEstadísticas para 'Measurement':\")\n",
        "print(f\"Media:{statistics.mean(measulist)}\")\n",
        "print(f\"Mediana:{statistics.median(measulist)}\")\n",
        "print(f\"Desviación Estándar:{statistics.stdev(measulist)}\")\n",
        "print(f\"Varianza:{statistics.variance(measulist)}\")\n",
        "\n",
        "#Calculamos estadísticas para Lenght\n",
        "print(\"\\nEstadísticas para 'Lenght':\")\n",
        "print(f\"Media:{statistics.mean(lenlist)}\")\n",
        "print(f\"Mediana:{statistics.median(lenlist)}\")\n",
        "print(f\"Desviación Estándar:{statistics.stdev(lenlist)}\")\n",
        "print(f\"Varianza:{statistics.variance(lenlist)}\")"
      ],
      "metadata": {
        "colab": {
          "base_uri": "https://localhost:8080/"
        },
        "id": "ysY2XkxswTBk",
        "outputId": "86e5dd24-2e31-493d-d5be-45f78f2b93b8"
      },
      "execution_count": 10,
      "outputs": [
        {
          "output_type": "stream",
          "name": "stdout",
          "text": [
            "\n",
            "Estadísticas para 'Measurement':\n",
            "Media:18.5\n",
            "Mediana:18.5\n",
            "Desviación Estándar:10.535653752852738\n",
            "Varianza:111\n",
            "\n",
            "Estadísticas para 'Lenght':\n",
            "Media:1.0017222222222222\n",
            "Mediana:0.965\n",
            "Desviación Estándar:0.3018511090976677\n",
            "Varianza:0.09111409206349208\n"
          ]
        }
      ]
    }
  ]
}